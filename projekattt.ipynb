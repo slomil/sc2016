{
 "cells": [
  {
   "cell_type": "markdown",
   "metadata": {},
   "source": [
    "## Soft projekat"
   ]
  },
  {
   "cell_type": "code",
   "execution_count": 2,
   "metadata": {
    "collapsed": true
   },
   "outputs": [],
   "source": [
    "import cv2\n",
    "import numpy as np\n",
    "from scipy import ndimage\n",
    "from vector import distance, pnt2line\n",
    "from matplotlib.pyplot import cm \n",
    "import itertools\n",
    "import time\n",
    "from skimage.io import imread\n",
    "from skimage.color import rgb2gray\n",
    "from skimage import color\n",
    "from skimage.measure import label\n",
    "from skimage.measure import regionprops\n",
    "from sklearn.datasets import fetch_mldata\n",
    "from sklearn.neighbors import KNeighborsClassifier\n",
    "import matplotlib.pyplot as plt  # za prikaz slika, grafika, itd.\n",
    "%matplotlib inline"
   ]
  },
  {
   "cell_type": "code",
   "execution_count": 3,
   "metadata": {
    "collapsed": true
   },
   "outputs": [],
   "source": [
    "def gornjilevi(img):\n",
    "    \n",
    "    label_img = label(img)\n",
    "    regions = regionprops(label_img)\n",
    "    minx=800\n",
    "    miny=800\n",
    "    maxx=0\n",
    "    maxy=0\n",
    "    for region in regions:\n",
    "        b_box = region.bbox\n",
    "        if b_box[0]<minx:\n",
    "            minx=bbox[0]\n",
    "        if b_box[1] <miny:\n",
    "            miny=bbox[1]\n",
    "        if b_box[2]>maxx:\n",
    "            maxx=bbox[2]\n",
    "        if b_box[3]>maxy:\n",
    "            maxy=bbox[3]\n",
    "\n",
    "    height = maxx - minx\n",
    "    width = maxy - miny\n",
    "    slika = np.zeros((28, 28))\n",
    "\n",
    "    slika[0:height, 0:width] = slika[0:height, 0:width] + img[minx:maxx, miny:maxy]\n",
    "    return slika\n",
    "    \n",
    "    \n",
    "def popuni(image):\n",
    "    if(np.shape(image)!=(28,28)):\n",
    "        img = np.zeros((28,28))\n",
    "        x = 28 - np.shape(image)[0]\n",
    "        y = 28 - np.shape(image)[1]\n",
    "        img[:-x,:-y] = image\n",
    "        return img\n",
    "    else:\n",
    "        return image\n",
    "    \n"
   ]
  },
  {
   "cell_type": "code",
   "execution_count": 4,
   "metadata": {
    "collapsed": true
   },
   "outputs": [],
   "source": [
    "neighbours = KNeighborsClassifier(n_neighbors=1)\n",
    "mnist = fetch_mldata('MNIST original')\n",
    "data = mnist.data\n",
    "datax = data.astype('uint8')\n",
    "    \n",
    "target = mnist.target\n",
    "obradene = np.empty_like(datax)\n",
    "    \n",
    "for i in range(0,len(datax)):\n",
    "\n",
    "    mnist_slika=datax[i].reshape(28,28)\n",
    "    crnobelo=((color.rgb2gray(mnist_slika)/255.0)>0.88).astype('uint8')\n",
    "    new_mnist_slika=gornjilevi(crnobelo)\n",
    "    obradene[i]= new_mnist_slika.reshape(784,)\n",
    "    \n",
    "neighbours.fit(obradjene, target)\n",
    "\n",
    "def KNNbroj(image):\n",
    "    image_x = popuni(np.array(image.astype('uint8')))\n",
    "    k = neighbours.predict(image_x.reshape(1,-1))\n",
    "    return k"
   ]
  },
  {
   "cell_type": "code",
   "execution_count": 7,
   "metadata": {
    "collapsed": false
   },
   "outputs": [
    {
     "name": "stdout",
     "output_type": "stream",
     "text": [
      "True\n"
     ]
    },
    {
     "data": {
      "image/png": "[encoded data removed]",
      "text/plain": [
       "<matplotlib.figure.Figure at 0xa768ba8>"
      ]
     },
     "metadata": {},
     "output_type": "display_data"
    }
   ],
   "source": [
    "def koordinate(linije):\n",
    "    \n",
    "    minx=0\n",
    "    miny=0\n",
    "    maxy=0\n",
    "    maxx=0\n",
    "    for x1, y1, x2, y2 in linije[0]:\n",
    "        minx=x1\n",
    "        miny=y1\n",
    "        maxx=x2\n",
    "        maxy=y2\n",
    "    for i in  range(len(linije)):\n",
    "        for x1, y1, x2, y2 in linije[i]:\n",
    "            if x1<minx :\n",
    "                minx=x1\n",
    "                miny=y1\n",
    "            if x2>maxx:\n",
    "                maxy=y2\n",
    "                maxx=x2\n",
    "                \n",
    "    return minx,miny,maxx,maxy\n",
    "\n",
    "def linija(granica, img):\n",
    "    hsv = cv2.cvtColor(img, cv2.COLOR_BGR2HSV)\n",
    "    lower, upper = granica\n",
    "    lower = np.array(lower, dtype = \"uint8\")\n",
    "    upper = np.array(upper, dtype = \"uint8\")\n",
    "    maska = cv2.inRange(hsv, lower, upper)\n",
    "    rez = rgb2gray(cv2.bitwise_and(img, img, mask = maska))\n",
    "    img_rez = rez >0.001  \n",
    "    return img_rez\n",
    "\n",
    "def hough_alg(img, granica):\n",
    "    img_output = linija(granica, img)\n",
    "    plt.imshow(img_output, 'gray') \n",
    "    from skimage import img_as_ubyte\n",
    "    cv_image = img_as_ubyte(img_output)\n",
    "    linija = cv2.HoughLinesP(cv_image,1,np.pi/180,100,600,10)\n",
    "    x1, y1, x2, y2 = koordinate(linija)\n",
    "    \n",
    "    return x1, y1, x2, y2\n",
    "\n",
    "video=\"video-0.avi\"\n",
    "    \n",
    "def linijax(video):\n",
    "    granica = [110, 100, 100], [130, 255, 255]\n",
    "    cap = cv2.VideoCapture(video)\n",
    "    print(cap.isOpened())\n",
    "    ret, frame = cap.read()\n",
    "    cap.release()\n",
    "    cv2.destroyAllWindows()\n",
    "    x11,y11,x12,y12=hough_alg(frame, granica)\n",
    "    return x11,y11,x12,y12\n",
    "\n",
    "x11,y11,x12,y12=linijax(video)\n",
    "\n",
    "#LINIJA IZRACUNATA\n",
    "linee = [(x11,y11),(x12,y12)]\n",
    "\n",
    "def dodavanje_elementa(el, prosli):\n",
    "    x = 0\n",
    "    for elem in prosli:\n",
    "        if (elem['id'] == el['id']):\n",
    "            x = 1\n",
    "    \n",
    "    if x==0:\n",
    "        prosli.append(el)\n",
    "    \n",
    "    return prosli\n",
    "\n",
    "def najblizi(list,elem):\n",
    "\n",
    "    temp = list[0]\n",
    "    for obj in list:\n",
    "        if distance(obj['center'],elem['center']) < distance(temp['center'],elem['center']):\n",
    "            temp = obj\n",
    "    \n",
    "    return temp"
   ]
  },
  {
   "cell_type": "code",
   "execution_count": 10,
   "metadata": {
    "collapsed": true
   },
   "outputs": [],
   "source": [
    "cc = -1\n",
    "def nextId():\n",
    "    global cc\n",
    "    cc += 1\n",
    "    return cc\n",
    "\n",
    "def inRange(r, item, items):\n",
    "    retVal = []\n",
    "    for obj in items:\n",
    "        mdist = distance(item['center'], obj['center'])\n",
    "        if(mdist<r):\n",
    "            retVal.append(obj)\n",
    "    return retVal\n",
    "\n",
    "kernel = np.ones((2,2),np.uint8)\n",
    "lower = np.array([230, 230, 230])\n",
    "upper = np.array([255, 255, 255])"
   ]
  },
  {
   "cell_type": "code",
   "execution_count": 13,
   "metadata": {
    "collapsed": false
   },
   "outputs": [
    {
     "name": "stdout",
     "output_type": "stream",
     "text": [
      "Ukupno je proslo 7 elemenata\n",
      "Suma je jednaka 35 \n"
     ]
    }
   ],
   "source": [
    "elementi = []\n",
    "t =0\n",
    "cap = cv2.VideoCapture(video)\n",
    "ret, img3 = cap.read()\n",
    "prosli = []\n",
    "\n",
    "while(1):\n",
    "    start_time = time.time()\n",
    "    val, img = cap.read()\n",
    "    if not val:\n",
    "        break\n",
    "    \n",
    "    lower = np.array(lower, dtype = \"uint8\")\n",
    "    upper = np.array(upper, dtype = \"uint8\")\n",
    "    mask = cv2.inRange(img, lower, upper)    \n",
    "    img0 = mask\n",
    "    img1 = mask\n",
    "    img0 = cv2.dilate(img0,kernel) \n",
    "    img0 = cv2.dilate(img0,kernel) \n",
    "    if(video=='video-0.avi'):\n",
    "        img0 = cv2.dilate(img0,kernel)\n",
    "        \n",
    "    labeled, nr_objects = ndimage.label(img0)\n",
    "    objects = ndimage.find_objects(labeled)\n",
    "    \n",
    "    for i in range(nr_objects):\n",
    "        loc = objects[i]\n",
    "        (xc,yc) = ((loc[1].stop + loc[1].start)/2, (loc[0].stop + loc[0].start)/2)\n",
    "        (dxc,dyc) = ((loc[1].stop - loc[1].start), (loc[0].stop - loc[0].start))\n",
    "\n",
    "        if(dxc>11 or dyc>11):\n",
    "            \n",
    "            cv2.rectangle(img, (xc-14,yc+14),(xc+14,yc-14), (25, 25, 255), 1)\n",
    "\n",
    "            elem = {'center':(xc,yc), 't':t}\n",
    "            \n",
    "            # find in range\n",
    "            lst = inRange(20, elem, elementi)\n",
    "            nn = len(lst)\n",
    "            if nn == 0:\n",
    "                elem['id'] = nextId()\n",
    "                elem['t'] = t\n",
    "                elem['pass'] = False\n",
    "                elem['pass2'] = False\n",
    "                mnist_number = img1[yc-14:yc+14,xc-14:xc+14]\n",
    "                elem['image'] = mnist_number\n",
    "                elementi.append(elem)\n",
    "                \n",
    "            else:\n",
    "                el = najblizi(lst,elem)\n",
    "                el['center'] = elem['center']\n",
    "                el['t'] = t\n",
    "                el['image'] = img1[yc-14:yc+14,xc-14:xc+14]\n",
    "                        \n",
    "    for el in elementi:\n",
    "        tt = t - el['t']\n",
    "        if(tt<3):\n",
    "            dist, pnt, r = pnt2line(el['center'], linee[0], linee[1])\n",
    "            c = (0, 0, 255)\n",
    "            if r>0:\n",
    "                cv2.line(img, pnt, el['center'], (255, 0, 0), 1)\n",
    "                if(dist<5):\n",
    "                    if el['pass'] == False:\n",
    "                        el['pass'] = True\n",
    "                \n",
    "                if(dist>5 & el['pass']==True):\n",
    "                    c = (0, 255, 255)\n",
    "                    prosli = dodavanje_elementa(el, prosli)\n",
    "                    \n",
    "            x = el['center'][0]\n",
    "            y = el['center'][1]\n",
    "            cv2.rectangle(img, (x-14,y+14),(x+14,y-14), c, 1)\n",
    "            \n",
    "            id = el['id']\n",
    "\n",
    "    elapsed_time = time.time() - start_time\n",
    "    \n",
    "    t += 1\n",
    "    cv2.imshow('frame', img)\n",
    "    k = cv2.waitKey(30) & 0xff\n",
    "    if k==27:\n",
    "        break\n",
    "    \n",
    "    \n",
    "cap.release()\n",
    "cv2.destroyAllWindows()\n",
    "\n",
    "   \n",
    "s=0\n",
    "i=0\n",
    "print('Ukupno je proslo '+ str(len(prosli))+' elemenata')\n",
    "for el in prosli:\n",
    "    slika=gornjilevi(el['image'])\n",
    "    i=i+1\n",
    "    s= s + KNNbroj(slika)\n",
    "\n",
    "print('Suma je jednaka %d ' %s)"
   ]
  },
  {
   "cell_type": "code",
   "execution_count": null,
   "metadata": {
    "collapsed": true
   },
   "outputs": [],
   "source": []
  },
  {
   "cell_type": "code",
   "execution_count": null,
   "metadata": {
    "collapsed": true
   },
   "outputs": [],
   "source": []
  },
  {
   "cell_type": "code",
   "execution_count": null,
   "metadata": {
    "collapsed": true
   },
   "outputs": [],
   "source": []
  }
 ],
 "metadata": {
  "anaconda-cloud": {},
  "kernelspec": {
   "display_name": "Python [conda root]",
   "language": "python",
   "name": "conda-root-py"
  },
  "language_info": {
   "codemirror_mode": {
    "name": "ipython",
    "version": 2
   },
   "file_extension": ".py",
   "mimetype": "text/x-python",
   "name": "python",
   "nbconvert_exporter": "python",
   "pygments_lexer": "ipython2",
   "version": "2.7.12"
  }
 },
 "nbformat": 4,
 "nbformat_minor": 1
}
